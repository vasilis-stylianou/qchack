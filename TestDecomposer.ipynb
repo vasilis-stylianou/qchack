{
 "cells": [
  {
   "cell_type": "code",
   "execution_count": 4,
   "metadata": {},
   "outputs": [],
   "source": [
    "import numpy as np"
   ]
  },
  {
   "cell_type": "code",
   "execution_count": 5,
   "metadata": {},
   "outputs": [],
   "source": [
    "# useful matrices\n",
    "Identity_22 = np.eye(2, dtype=np.complex128)\n",
    "Pauli_x = np.array([[0, 1], [1, 0]], dtype=np.complex128)\n",
    "\n",
    "# threshold\n",
    "thr = 10**-9"
   ]
  },
  {
   "cell_type": "code",
   "execution_count": 111,
   "metadata": {},
   "outputs": [],
   "source": [
    "def is_unitary(A):\n",
    "    n = A.shape[0]\n",
    "    if (A.shape != (n, n)):\n",
    "        raise ValueError(\"Matrix is not square.\")\n",
    "    A = np.array(A)\n",
    "    return np.allclose(np.eye(n), A @ A.conj().T)\n",
    "\n",
    "\n",
    "def is_identity(A):\n",
    "    n = A.shape[0]\n",
    "    if (A.shape != (n, n)):\n",
    "        raise ValueError(\"Matrix is not square.\")\n",
    "    return np.allclose(A, np.eye(n))\n",
    "\n",
    "\n",
    "def elimination_matrix(a,b):\n",
    "    # a, b allowed to be complex\n",
    "    \n",
    "    # impose theta real + positive {eq.10}\n",
    "    theta = np.arctan(abs(b/a))\n",
    "    \n",
    "    # lambda is the negative arg() of a\n",
    "    lamda = - np.angle(a)\n",
    "    \n",
    "    # {eq.12}\n",
    "    mu = np.pi + np.angle(b)\n",
    "    \n",
    "    # {eq.7}\n",
    "    U_special = np.array([ [np.exp(1j*lamda) * np.cos(theta), np.exp(1j*mu) * np.sin(theta)],\n",
    "                           [-np.exp(-1j*mu) * np.sin(theta), np.exp(-1j*lamda) * np.cos(theta)] ])\n",
    "    \n",
    "    return U_special\n",
    "\n",
    "\n",
    "def two_level_decomp(A):\n",
    "    n = A.shape[0]\n",
    "    decomp = []\n",
    "    indices = []\n",
    "    A_c = np.copy(A)\n",
    "\n",
    "    for i in range(n-2):\n",
    "        for j in range(n-1, i, -1):\n",
    "\n",
    "            a = A_c[i,j-1]\n",
    "            b = A_c[i,j]\n",
    "\n",
    "            # --- need checks --- \n",
    "            # if A[i,j] = 0, nothing to do! Except in last row - need to check diagonal element is 1 \n",
    "            if abs(A_c[i,j]) < thr:\n",
    "                U_22 = Identity_22\n",
    "\n",
    "                if j == i+1:\n",
    "                    U_22 = np.array([[1 / a, 0], [0, a]])\n",
    "\n",
    "            # if A[i,j-1] = 0, need to swap columns - again checking last row to ensure diagonal element is 1 \n",
    "            elif abs(A_c[i,j-1]) < thr:\n",
    "                U_22 = Pauli_x\n",
    "\n",
    "                if j == i+1:\n",
    "                    U_22 = np.array([[1 / b, 0], [0, b]])\n",
    "\n",
    "            # Special unitary matrix\n",
    "            else: \n",
    "                U_22 = elimination_matrix(a,b)\n",
    "\n",
    "            # ----- U_22 found -----\n",
    "\n",
    "            # multiply submatrix of A with U_22\n",
    "            A_c[:,(j-1,j)] = A_c[:,(j-1,j)] @ U_22\n",
    "\n",
    "            # If not the identity matrix - represents a gate! So should store\n",
    "            if not is_identity(U_22):\n",
    "                decomp.append(U_22.conj().T)\n",
    "                indices.append(np.array([j-1,j]))\n",
    "\n",
    "\n",
    "        # check for diagonal element equal to 1\n",
    "        assert np.allclose(A_c[i,i],1.0)\n",
    "    \n",
    "    # lower right hand 2x2 matrix remaining after decomp\n",
    "    lower_rh_matrix = A_c[n-2:n, n-2:n]\n",
    "    \n",
    "    # if not equal to I - is a non trivial gate\n",
    "    if not is_identity(lower_rh_matrix):\n",
    "        decomp.append(lower_rh_matrix)\n",
    "        indices.append(np.array([n-2,n-1]))\n",
    "\n",
    "    return decomp, indices\n",
    "\n",
    "\n",
    "def gray_method(A):\n",
    "    \n",
    "    n = A.shape[0]\n",
    "    M = np.copy(A)\n",
    "\n",
    "    # using bitwise_xor find Gray permutations\n",
    "    permutations = []\n",
    "    for i in range(n):\n",
    "        permutations.append(i ^ (i // 2))\n",
    "        \n",
    "    # \n",
    "    M[:,:] = M[:,permutations]\n",
    "    M[:,:] = M[permutations,:]\n",
    "    \n",
    "    decomp, indices = two_level_decomp(M)\n",
    "    new_ind = []\n",
    "    \n",
    "    decomp, indices = two_level_decomp(M)\n",
    "    new_decomp = []\n",
    "    new_ind = []\n",
    "\n",
    "    for i in range(len(indices)):\n",
    "        \n",
    "        t = np.take(permutations, indices[i])\n",
    "        if t[0]>t[1]:\n",
    "            new_decomp.append(decomp[i].T)\n",
    "            new_ind.append(np.sort(t))\n",
    "\n",
    "        else:\n",
    "            new_decomp.append(decomp[i])\n",
    "            new_ind.append(t)\n",
    "            \n",
    "    return new_decomp, new_ind\n",
    "\n",
    "    "
   ]
  },
  {
   "cell_type": "code",
   "execution_count": 108,
   "metadata": {},
   "outputs": [],
   "source": [
    "n = A.shape[0]\n",
    "M = np.copy(A)\n",
    "permutations = []\n",
    "for i in range(n):\n",
    "    permutations.append(i ^ (i // 2))\n",
    "\n",
    "# \n",
    "M[:,:] = M[:,permutations]\n",
    "M[:,:] = M[permutations,:]\n",
    "\n",
    "decomp, indices = two_level_decomp(M)\n",
    "new_decomp = []\n",
    "new_ind = []\n",
    "\n",
    "for i in range(len(indices)):\n",
    "#     new_ind.append(np.sort(np.take(permutations, pair, 0)))\n",
    "# indices\n",
    "    t = np.take(permutations, indices[i])\n",
    "    if t[0]>t[1]:\n",
    "        new_decomp.append(decomp[i].T)\n",
    "        new_ind.append(np.sort(t))\n",
    "        \n",
    "    else:\n",
    "        new_decomp.append(decomp[i])\n",
    "        new_ind.append(t)\n",
    "        \n",
    "        "
   ]
  },
  {
   "cell_type": "code",
   "execution_count": 93,
   "metadata": {},
   "outputs": [
    {
     "data": {
      "text/plain": [
       "[0, 1, 3, 2]"
      ]
     },
     "execution_count": 93,
     "metadata": {},
     "output_type": "execute_result"
    }
   ],
   "source": [
    "permutations"
   ]
  },
  {
   "cell_type": "code",
   "execution_count": 80,
   "metadata": {},
   "outputs": [],
   "source": [
    "class SGate:\n",
    "    def __init__(self,gate,Q_id):\n",
    "        self.gate = gate\n",
    "        self.Q_id = Q_id\n",
    "\n",
    "        \n",
    "class CGate:\n",
    "    def __init__(self,gate,Q_id):\n",
    "        self.gate = gate\n",
    "        self.Q_id = Q_id\n",
    "\n",
    "        \n",
    "def flip(overlay, gates):\n",
    "    \n",
    "    '''X gate operator determined by XOR between qbit'''\n",
    "    \n",
    "    Q_id = 0\n",
    "    while overlay>0:\n",
    "        if overlay % 2 == 1:\n",
    "            gates.append(SGate(Pauli_x, Q_id))\n",
    "        overlay //= 2\n",
    "        Q_id += 1\n",
    "\n",
    "        \n",
    "def SpecU_2_gate(A):\n",
    "    \n",
    "    '''Special Unitary Gate'''\n",
    "    \n",
    "    u1 = A[0,0]\n",
    "    u2 = A[0,1]\n",
    "    theta = 2*np.arccos(abs(u1))\n",
    "    lamda = np.angle(u1)\n",
    "    mu = np.angle(u2)\n",
    "    \n",
    "    gates = []\n",
    "    \n",
    "    temp = lamda-mu\n",
    "    if abs(temp) > thr:\n",
    "        gates.append(np.diag([np.exp(0.5j * temp), np.exp(-0.5j * temp)]))\n",
    "        \n",
    "    if abs(theta) > thr:\n",
    "        gates.append(np.array([[np.cos(theta), np.sin(theta)],\n",
    "                               [-np.sin(theta), np.cos(theta)]]))\n",
    "    \n",
    "    temp = lamda+mu\n",
    "    if abs(temp) > thr:\n",
    "        gates.append(np.diag([np.exp(0.5j * temp), np.exp(-0.5j * temp)]))\n",
    "    \n",
    "    return gates\n",
    "        \n",
    "    \n",
    "def U_2_gate(A):\n",
    "    \n",
    "    '''General Unitary Gate'''\n",
    "    \n",
    "    phi = np.angle(np.linalg.det(A))\n",
    "    if abs(phi) < thr:\n",
    "        return SpecU_2_gate(A)\n",
    "    elif np.allclose(A, Pauli_x):\n",
    "        return Pauli_x\n",
    "    else:\n",
    "        A = np.diag([1.0, np.exp(-1j * phi)]) @ A\n",
    "        return SpecU_2_gate(A) + np.diag([1.0, np.exp(1j * phi)])\n",
    "    \n",
    "import math\n",
    "def matrix_2_gates(A):\n",
    "    \n",
    "    '''Convert matrix into series of gates'''\n",
    "    \n",
    "    gates = []\n",
    "    prev_flip_overlay = 0\n",
    "    \n",
    "    decomp, indices = gray_method(A)\n",
    "    for i in range(len(decomp)):\n",
    "        sub = decomp[i]\n",
    "        ind1, ind2 = indices[i][0], indices[i][1]\n",
    "        id_overlay = ind1 ^ ind2\n",
    "        Q_id = int(math.log2(id_overlay))\n",
    "        \n",
    "        flip_overlay = sub.shape[0]-1 - ind2\n",
    "        flip(flip_overlay ^ prev_flip_overlay, gates)\n",
    "        \n",
    "        for gate in U_2_gate(sub):\n",
    "            gates.append(CGate(gate,Q_id))\n",
    "        prev_flip_overlay = flip_overlay\n",
    "        \n",
    "    flip(prev_flip_overlay,gates)\n",
    "    \n",
    "    return(gates)\n",
    "    \n",
    "    \n",
    "            \n"
   ]
  },
  {
   "cell_type": "code",
   "execution_count": 67,
   "metadata": {},
   "outputs": [
    {
     "data": {
      "text/plain": [
       "([array([[0.-0.j, 1.-0.j],\n",
       "         [1.-0.j, 0.-0.j]]),\n",
       "  array([[ 0.70710678-0.00000000e+00j,  0.70710678-8.65956056e-17j],\n",
       "         [-0.70710678-8.65956056e-17j,  0.70710678-0.00000000e+00j]]),\n",
       "  array([[ 0.57735027-0.00000000e+00j,  0.81649658-9.99919924e-17j],\n",
       "         [-0.81649658-9.99919924e-17j,  0.57735027-0.00000000e+00j]]),\n",
       "  array([[-7.07106781e-01+8.65956056e-17j, -5.14325540e-16-7.07106781e-01j],\n",
       "         [ 5.14325540e-16-7.07106781e-01j, -7.07106781e-01-8.65956056e-17j]]),\n",
       "  array([[ 0.00000000e+00+0.j,  0.00000000e+00-1.j],\n",
       "         [-6.98727119e-16-1.j,  0.00000000e+00+0.j]])],\n",
       " [array([2, 3]), array([1, 3]), array([0, 1]), array([1, 3]), array([2, 3])])"
      ]
     },
     "execution_count": 67,
     "metadata": {},
     "output_type": "execute_result"
    }
   ],
   "source": [
    "gray_method(A)"
   ]
  },
  {
   "cell_type": "code",
   "execution_count": 123,
   "metadata": {},
   "outputs": [
    {
     "name": "stdout",
     "output_type": "stream",
     "text": [
      "[[0.59467809-0.80396391j 0.        +0.j        ]\n",
      " [0.        +0.j         0.59467809+0.80396391j]] 0\n",
      "[[-0.28525208  0.95845253]\n",
      " [-0.95845253 -0.28525208]] 0\n",
      "[[0.24903632+0.96849415j 0.        +0.j        ]\n",
      " [0.        +0.j         0.24903632-0.96849415j]] 0\n",
      "[[0.92204237+0.38708897j 0.        +0.j        ]\n",
      " [0.        +0.j         0.92204237-0.38708897j]] 1\n",
      "[[-0.52232904  0.85274403]\n",
      " [-0.85274403 -0.52232904]] 1\n",
      "[[0.92204237+0.38708897j 0.        +0.j        ]\n",
      " [0.        +0.j         0.92204237-0.38708897j]] 1\n",
      "[[0.83672831-0.54761824j 0.        +0.j        ]\n",
      " [0.        +0.j         0.83672831+0.54761824j]] 0\n",
      "[[-0.05340704  0.99857283]\n",
      " [-0.99857283 -0.05340704]] 0\n",
      "[[0.83672831-0.54761824j 0.        +0.j        ]\n",
      " [0.        +0.j         0.83672831+0.54761824j]] 0\n",
      "[[0.98532638-0.17068078j 0.        +0.j        ]\n",
      " [0.        +0.j         0.98532638+0.17068078j]] 0\n",
      "[[-0.09628369  0.99535393]\n",
      " [-0.99535393 -0.09628369]] 0\n",
      "[[-0.48423737+0.87493666j  0.        +0.j        ]\n",
      " [ 0.        +0.j         -0.48423737-0.87493666j]] 0\n",
      "[[0.99816502+0.06055243j 0.        +0.j        ]\n",
      " [0.        +0.j         0.99816502-0.06055243j]] 1\n",
      "[[ 0.66190541  0.74958737]\n",
      " [-0.74958737  0.66190541]] 1\n",
      "[[0.99816502+0.06055243j 0.        +0.j        ]\n",
      " [0.        +0.j         0.99816502-0.06055243j]] 1\n",
      "[[ 1.97410401+0.22610035j  0.        +0.j        ]\n",
      " [ 0.        +0.j         -0.01009559-0.04903785j]] 0\n",
      "[[ 1.79014897+0.j         0.61291485+0.j       ]\n",
      " [-0.61291485+0.j        -0.19405064+0.1770625j]] 0\n",
      "[[ 0.64400342+0.93448726j  0.        +0.j        ]\n",
      " [ 0.        +0.j         -1.34019619-0.75742476j]] 0\n"
     ]
    }
   ],
   "source": [
    "ms = matrix_2_gates(A)\n",
    "for m in ms:\n",
    "    print(m.gate, m.Q_id)"
   ]
  },
  {
   "cell_type": "code",
   "execution_count": 125,
   "metadata": {},
   "outputs": [
    {
     "data": {
      "text/plain": [
       "[Rz(-2.638222449151229) on bit 0, fully controlled,\n",
       " Ry(1.860065752122905) on bit 0, fully controlled,\n",
       " Rz(1.8678622906964781) on bit 0, fully controlled,\n",
       " Rz(0.7949446655180341) on bit 1, fully controlled,\n",
       " Ry(2.1203762307453524) on bit 1, fully controlled,\n",
       " Rz(0.7949446655180348) on bit 1, fully controlled,\n",
       " X on bit 1,\n",
       " Rz(-1.1590301194041304) on bit 0, fully controlled,\n",
       " Ry(1.6242287922082768) on bit 0, fully controlled,\n",
       " Rz(-1.1590301194041308) on bit 0, fully controlled,\n",
       " X on bit 1,\n",
       " Rz(-4.152575295711639) on bit 0, fully controlled,\n",
       " Ry(1.6672294057893209) on bit 0, fully controlled,\n",
       " Rz(0.34304109058569354) on bit 0, fully controlled,\n",
       " Rz(0.1211789908330359) on bit 1, fully controlled,\n",
       " Ry(0.8474384665843779) on bit 1, fully controlled,\n",
       " Rz(0.12117899083303565) on bit 1, fully controlled,\n",
       " Rz(-0.905961578533288) on bit 0, fully controlled,\n",
       " Ry(0.6597443188399046) on bit 0, fully controlled,\n",
       " Rz(2.5074466786318603) on bit 0, fully controlled,\n",
       " R1(2.9635916657522836) on bit 0, fully controlled]"
      ]
     },
     "execution_count": 125,
     "metadata": {},
     "output_type": "execute_result"
    }
   ],
   "source": [
    "qd.quantum_decomp_main.matrix_to_gates(A)"
   ]
  },
  {
   "cell_type": "code",
   "execution_count": 60,
   "metadata": {},
   "outputs": [
    {
     "data": {
      "text/plain": [
       "[X on bit 0, fully controlled,\n",
       " Ry(1.5707963267948966) on bit 1, fully controlled,\n",
       " X on bit 1,\n",
       " Ry(1.9106332362490186) on bit 0, fully controlled,\n",
       " X on bit 1,\n",
       " Rz(4.712388980384691) on bit 1, fully controlled,\n",
       " Ry(1.5707963267948961) on bit 1, fully controlled,\n",
       " Rz(1.570796326794896) on bit 1, fully controlled,\n",
       " Rz(1.5707963267948972) on bit 0, fully controlled,\n",
       " Ry(3.141592653589793) on bit 0, fully controlled,\n",
       " Rz(-1.5707963267948972) on bit 0, fully controlled]"
      ]
     },
     "execution_count": 60,
     "metadata": {},
     "output_type": "execute_result"
    }
   ],
   "source": [
    "import quantum_decomp as qd\n",
    "qd.quantum_decomp_main.matrix_to_gates(A)"
   ]
  },
  {
   "cell_type": "code",
   "execution_count": 11,
   "metadata": {},
   "outputs": [],
   "source": [
    "# test matrix\n",
    "w = np.exp((2j / 3) * np.pi)\n"
   ]
  },
  {
   "cell_type": "code",
   "execution_count": 41,
   "metadata": {},
   "outputs": [
    {
     "data": {
      "text/plain": [
       "([array([[ 0.70710678-0.00000000e+00j,  0.70710678-8.65956056e-17j],\n",
       "         [-0.70710678-8.65956056e-17j,  0.70710678-0.00000000e+00j]]),\n",
       "  array([[ 0.57735027-0.00000000e+00j,  0.81649658-9.99919924e-17j],\n",
       "         [-0.81649658-9.99919924e-17j,  0.57735027-0.00000000e+00j]]),\n",
       "  array([[-7.07106781e-01+8.65956056e-17j, -5.14325540e-16-7.07106781e-01j],\n",
       "         [ 5.14325540e-16-7.07106781e-01j, -7.07106781e-01-8.65956056e-17j]]),\n",
       "  array([[-6.98727119e-16-1.j,  0.00000000e+00+0.j],\n",
       "         [ 0.00000000e+00+0.j,  0.00000000e+00-1.j]])],\n",
       " [array([1, 2]), array([0, 1]), array([1, 2]), array([2, 3])])"
      ]
     },
     "execution_count": 41,
     "metadata": {},
     "output_type": "execute_result"
    }
   ],
   "source": [
    "A = np.array([[1, 1, 1, 0], \n",
    "                  [1, w, w * w, 0],\n",
    "                  [1, w * w, w, 0], \n",
    "                  [0, 0, 0, -1j*np.sqrt(3)]]) / np.sqrt(3)\n",
    "two_level_decomp(A)"
   ]
  },
  {
   "cell_type": "code",
   "execution_count": 125,
   "metadata": {},
   "outputs": [
    {
     "data": {
      "text/plain": [
       "array([[ 0.80312118,  0.59581572],\n",
       "       [-0.59581572,  0.80312118]])"
      ]
     },
     "execution_count": 125,
     "metadata": {},
     "output_type": "execute_result"
    }
   ],
   "source": [
    "import quantum_decomp as qd\n",
    "\n",
    "# A = np.array([[1, 1, 1, 0], \n",
    "#                   [1, w, w * w, 0],\n",
    "#                   [1, w * w, w, 0], \n",
    "#                   [0, 0, 0, -1j*np.sqrt(3)]]) / np.sqrt(3)\n",
    "Test = matrix_2_gates(A)\n",
    "\n",
    "# A = np.array([[1, 1, 1, 0], \n",
    "#                   [1, w, w * w, 0],\n",
    "#                   [1, w * w, w, 0], \n",
    "#                   [0, 0, 0, -1j*np.sqrt(3)]]) / np.sqrt(3)\n",
    "\n",
    "Known = qd.quantum_decomp_main.matrix_to_gates(A)\n",
    "\n",
    "Test[1].gate"
   ]
  },
  {
   "cell_type": "code",
   "execution_count": 73,
   "metadata": {},
   "outputs": [
    {
     "data": {
      "text/plain": [
       "[array([[ 0.50546415+0.62219936j,  0.55400673+0.22461189j],\n",
       "        [-0.55400673+0.22461189j,  0.50546415-0.62219936j]]),\n",
       " array([[ 0.34225405+3.48851895e-01j,  0.87244743-1.06843995e-16j],\n",
       "        [-0.87244743-1.06843995e-16j,  0.34225405-3.48851895e-01j]]),\n",
       " array([[ 0.27534341-6.30462121e-01j,  0.72574343-8.88779365e-17j],\n",
       "        [-0.72574343-8.88779365e-17j,  0.27534341+6.30462121e-01j]]),\n",
       " array([[-0.22034643+0.63506347j, -0.46381468-0.57707693j],\n",
       "        [ 0.46381468-0.57707693j, -0.22034643-0.63506347j]]),\n",
       " array([[ 0.90488138+1.1019251e-01j,  0.41115362-5.0351796e-17j],\n",
       "        [-0.41115362-5.0351796e-17j,  0.90488138-1.1019251e-01j]]),\n",
       " array([[-0.04388814+0.32093511j, -0.65863877-0.67916821j],\n",
       "        [-0.5279768 +0.78505731j,  0.10002026+0.30809327j]])]"
      ]
     },
     "execution_count": 73,
     "metadata": {},
     "output_type": "execute_result"
    }
   ],
   "source": [
    "from scipy.stats import unitary_group\n",
    "nq = 2\n",
    "A = unitary_group.rvs(2**nq)\n",
    "decomp, indices = two_level_decomp(A)\n",
    "decomp"
   ]
  },
  {
   "cell_type": "code",
   "execution_count": 112,
   "metadata": {},
   "outputs": [
    {
     "data": {
      "text/plain": [
       "([array([[ 0.55400673+0.22461189j, -0.50546415+0.62219936j],\n",
       "         [ 0.50546415+0.62219936j,  0.55400673-0.22461189j]]),\n",
       "  array([[ 0.34225405+3.48851895e-01j,  0.87244743+2.80600495e-16j],\n",
       "         [-0.87244743+2.80600495e-16j,  0.34225405-3.48851895e-01j]]),\n",
       "  array([[ 0.27534341-6.30462121e-01j,  0.72574343-8.88779365e-17j],\n",
       "         [-0.72574343-8.88779365e-17j,  0.27534341+6.30462121e-01j]]),\n",
       "  array([[-0.22034643+0.63506347j, -0.46381468+0.57707693j],\n",
       "         [ 0.46381468+0.57707693j, -0.22034643-0.63506347j]]),\n",
       "  array([[ 0.90488138+1.1019251e-01j,  0.41115362-5.0351796e-17j],\n",
       "         [-0.41115362-5.0351796e-17j,  0.90488138-1.1019251e-01j]]),\n",
       "  array([[-0.5279768 +0.78505731j, -0.04388814+0.32093511j],\n",
       "         [-0.10002026-0.30809327j,  0.65863877+0.67916821j]])],\n",
       " [array([2, 3]),\n",
       "  array([1, 3]),\n",
       "  array([0, 1]),\n",
       "  array([2, 3]),\n",
       "  array([1, 3]),\n",
       "  array([2, 3])])"
      ]
     },
     "execution_count": 112,
     "metadata": {},
     "output_type": "execute_result"
    }
   ],
   "source": [
    "gray_method(A)"
   ]
  },
  {
   "cell_type": "code",
   "execution_count": 113,
   "metadata": {},
   "outputs": [
    {
     "data": {
      "text/plain": [
       "[[[ 0.55400673-0.22461189j -0.50546415+0.62219936j]\n",
       "  [ 0.50546415+0.62219936j  0.55400673+0.22461189j]] on (2, 3),\n",
       " [[ 0.34225405+3.48851895e-01j  0.87244743+2.80600495e-16j]\n",
       "  [-0.87244743+2.80600495e-16j  0.34225405-3.48851895e-01j]] on (1, 3),\n",
       " [[ 0.27534341-6.30462121e-01j  0.72574343-8.88779365e-17j]\n",
       "  [-0.72574343-8.88779365e-17j  0.27534341+6.30462121e-01j]] on (0, 1),\n",
       " [[-0.22034643-0.63506347j -0.46381468+0.57707693j]\n",
       "  [ 0.46381468+0.57707693j -0.22034643+0.63506347j]] on (2, 3),\n",
       " [[ 0.90488138+1.1019251e-01j  0.41115362-5.0351796e-17j]\n",
       "  [-0.41115362-5.0351796e-17j  0.90488138-1.1019251e-01j]] on (1, 3),\n",
       " [[ 0.65863877+0.67916821j -0.04388814+0.32093511j]\n",
       "  [-0.10002026-0.30809327j -0.5279768 +0.78505731j]] on (2, 3)]"
      ]
     },
     "execution_count": 113,
     "metadata": {},
     "output_type": "execute_result"
    }
   ],
   "source": [
    "qd.two_level_decompose_gray(A)"
   ]
  },
  {
   "cell_type": "code",
   "execution_count": null,
   "metadata": {},
   "outputs": [],
   "source": []
  }
 ],
 "metadata": {
  "kernelspec": {
   "display_name": "Python 3",
   "language": "python",
   "name": "python3"
  },
  "language_info": {
   "codemirror_mode": {
    "name": "ipython",
    "version": 3
   },
   "file_extension": ".py",
   "mimetype": "text/x-python",
   "name": "python",
   "nbconvert_exporter": "python",
   "pygments_lexer": "ipython3",
   "version": "3.8.3"
  }
 },
 "nbformat": 4,
 "nbformat_minor": 4
}
